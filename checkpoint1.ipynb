{
 "cells": [
  {
   "cell_type": "markdown",
   "metadata": {},
   "source": [
    "# Checkpoint 1"
   ]
  },
  {
   "cell_type": "markdown",
   "metadata": {},
   "source": [
    "Reminder: \n",
    "\n",
    "- You are being evaluated for compeletion and effort in this checkpoint. \n",
    "- Avoid manual labor / hard coding as much as possible, everything we've taught you so far are meant to simplify and automate your process."
   ]
  },
  {
   "cell_type": "markdown",
   "metadata": {},
   "source": [
    "We will be working with the same `states_edu.csv` that you should already be familiar with from the tutorial.\n",
    "\n",
    "We investigated Grade 8 reading score in the tutorial. For this checkpoint, you are asked to investigate another test. Here's an overview:\n",
    "\n",
    "* Choose a specific response variable to focus on\n",
    ">Grade 4 Math, Grade 4 Reading, Grade 8 Math\n",
    "* Pick or create features to use\n",
    ">Will all the features be useful in predicting test score? Are some more important than others? Should you standardize, bin, or scale the data?\n",
    "* Explore the data as it relates to that test\n",
    ">Create at least 2 visualizations (graphs), each with a caption describing the graph and what it tells us about the data\n",
    "* Create training and testing data\n",
    ">Do you want to train on all the data? Only data from the last 10 years? Only Michigan data?\n",
    "* Train a ML model to predict outcome \n",
    ">Define what you want to predict, and pick a model in sklearn to use (see sklearn <a href=\"https://scikit-learn.org/stable/modules/linear_model.html\">regressors</a>.\n",
    "* Summarize your findings\n",
    ">Write a 1 paragraph summary of what you did and make a recommendation about if and how student performance can be predicted\n",
    "\n",
    "Include comments throughout your code! Every cleanup and preprocessing task should be documented.\n",
    "\n",
    "Of course, if you're finding this assignment interesting (and we really hope you do!), you are welcome to do more than the requirements! For example, you may want to see if expenditure affects 4th graders more than 8th graders. Maybe you want to look into the extended version of this dataset and see how factors like sex and race are involved. You can include all your work in this notebook when you turn it in -- just always make sure you explain what you did and interpret your results. Good luck!"
   ]
  },
  {
   "cell_type": "markdown",
   "metadata": {},
   "source": [
    "<h2> Data Cleanup </h2>\n",
    "\n",
    "Import `numpy`, `pandas`, and `matplotlib`.\n",
    "\n",
    "(Feel free to import other libraries!)"
   ]
  },
  {
   "cell_type": "code",
   "execution_count": 6,
   "metadata": {},
   "outputs": [],
   "source": [
    "import pandas as pd\n",
    "import numpy as np\n",
    "import matplotlib.pyplot as plt\n",
    "\n",
    "pd.options.mode.chained_assignment = None"
   ]
  },
  {
   "cell_type": "markdown",
   "metadata": {},
   "source": [
    "Load in the \"states_edu.csv\" dataset and take a look at the head of the data"
   ]
  },
  {
   "cell_type": "code",
   "execution_count": 11,
   "metadata": {},
   "outputs": [
    {
     "name": "stdout",
     "output_type": "stream",
     "text": [
      "             PRIMARY_KEY          STATE  YEAR  ENROLL  TOTAL_REVENUE  \\\n",
      "0           1992_ALABAMA        ALABAMA  1992     NaN      2678885.0   \n",
      "1            1992_ALASKA         ALASKA  1992     NaN      1049591.0   \n",
      "2           1992_ARIZONA        ARIZONA  1992     NaN      3258079.0   \n",
      "3          1992_ARKANSAS       ARKANSAS  1992     NaN      1711959.0   \n",
      "4        1992_CALIFORNIA     CALIFORNIA  1992     NaN     26260025.0   \n",
      "...                  ...            ...   ...     ...            ...   \n",
      "1710       2019_VIRGINIA       VIRGINIA  2019     NaN            NaN   \n",
      "1711     2019_WASHINGTON     WASHINGTON  2019     NaN            NaN   \n",
      "1712  2019_WEST_VIRGINIA  WEST_VIRGINIA  2019     NaN            NaN   \n",
      "1713      2019_WISCONSIN      WISCONSIN  2019     NaN            NaN   \n",
      "1714        2019_WYOMING        WYOMING  2019     NaN            NaN   \n",
      "\n",
      "      FEDERAL_REVENUE  STATE_REVENUE  LOCAL_REVENUE  TOTAL_EXPENDITURE  \\\n",
      "0            304177.0      1659028.0       715680.0          2653798.0   \n",
      "1            106780.0       720711.0       222100.0           972488.0   \n",
      "2            297888.0      1369815.0      1590376.0          3401580.0   \n",
      "3            178571.0       958785.0       574603.0          1743022.0   \n",
      "4           2072470.0     16546514.0      7641041.0         27138832.0   \n",
      "...               ...            ...            ...                ...   \n",
      "1710              NaN            NaN            NaN                NaN   \n",
      "1711              NaN            NaN            NaN                NaN   \n",
      "1712              NaN            NaN            NaN                NaN   \n",
      "1713              NaN            NaN            NaN                NaN   \n",
      "1714              NaN            NaN            NaN                NaN   \n",
      "\n",
      "      INSTRUCTION_EXPENDITURE  ...  GRADES_4_G  GRADES_8_G  GRADES_12_G  \\\n",
      "0                   1481703.0  ...     57948.0     58025.0      41167.0   \n",
      "1                    498362.0  ...      9748.0      8789.0       6714.0   \n",
      "2                   1435908.0  ...     55433.0     49081.0      37410.0   \n",
      "3                    964323.0  ...     34632.0     36011.0      27651.0   \n",
      "4                  14358922.0  ...    418418.0    363296.0     270675.0   \n",
      "...                       ...  ...         ...         ...          ...   \n",
      "1710                      NaN  ...         NaN         NaN          NaN   \n",
      "1711                      NaN  ...         NaN         NaN          NaN   \n",
      "1712                      NaN  ...         NaN         NaN          NaN   \n",
      "1713                      NaN  ...         NaN         NaN          NaN   \n",
      "1714                      NaN  ...         NaN         NaN          NaN   \n",
      "\n",
      "      GRADES_1_8_G  GRADES_9_12_G  GRADES_ALL_G  AVG_MATH_4_SCORE  \\\n",
      "0              NaN            NaN      731634.0             208.0   \n",
      "1              NaN            NaN      122487.0               NaN   \n",
      "2              NaN            NaN      673477.0             215.0   \n",
      "3              NaN            NaN      441490.0             210.0   \n",
      "4              NaN            NaN     5254844.0             208.0   \n",
      "...            ...            ...           ...               ...   \n",
      "1710           NaN            NaN           NaN             247.0   \n",
      "1711           NaN            NaN           NaN             240.0   \n",
      "1712           NaN            NaN           NaN             231.0   \n",
      "1713           NaN            NaN           NaN             242.0   \n",
      "1714           NaN            NaN           NaN             246.0   \n",
      "\n",
      "      AVG_MATH_8_SCORE  AVG_READING_4_SCORE  AVG_READING_8_SCORE  \n",
      "0                252.0                207.0                  NaN  \n",
      "1                  NaN                  NaN                  NaN  \n",
      "2                265.0                209.0                  NaN  \n",
      "3                256.0                211.0                  NaN  \n",
      "4                261.0                202.0                  NaN  \n",
      "...                ...                  ...                  ...  \n",
      "1710             287.0                224.0                262.0  \n",
      "1711             286.0                220.0                266.0  \n",
      "1712             272.0                213.0                256.0  \n",
      "1713             289.0                220.0                267.0  \n",
      "1714             286.0                227.0                265.0  \n",
      "\n",
      "[1715 rows x 25 columns]\n"
     ]
    }
   ],
   "source": [
    "df = pd.read_csv('../data/states_edu.csv')\n",
    "df.shape\n",
    "print(df)"
   ]
  },
  {
   "cell_type": "markdown",
   "metadata": {},
   "source": [
    "You should always familiarize yourself with what each column in the dataframe represents. Read about the states_edu dataset here: https://www.kaggle.com/noriuk/us-education-datasets-unification-project"
   ]
  },
  {
   "cell_type": "markdown",
   "metadata": {},
   "source": [
    "Use this space to rename columns, deal with missing data, etc. _(optional)_"
   ]
  },
  {
   "cell_type": "code",
   "execution_count": 14,
   "metadata": {},
   "outputs": [
    {
     "name": "stdout",
     "output_type": "stream",
     "text": [
      "             PRIMARY_KEY          STATE  YEAR  ENROLL  TOTAL_REVENUE  \\\n",
      "0           1992_ALABAMA        ALABAMA  1992     NaN      2678885.0   \n",
      "2           1992_ARIZONA        ARIZONA  1992     NaN      3258079.0   \n",
      "3          1992_ARKANSAS       ARKANSAS  1992     NaN      1711959.0   \n",
      "4        1992_CALIFORNIA     CALIFORNIA  1992     NaN     26260025.0   \n",
      "5          1992_COLORADO       COLORADO  1992     NaN      3185173.0   \n",
      "...                  ...            ...   ...     ...            ...   \n",
      "1710       2019_VIRGINIA       VIRGINIA  2019     NaN            NaN   \n",
      "1711     2019_WASHINGTON     WASHINGTON  2019     NaN            NaN   \n",
      "1712  2019_WEST_VIRGINIA  WEST_VIRGINIA  2019     NaN            NaN   \n",
      "1713      2019_WISCONSIN      WISCONSIN  2019     NaN            NaN   \n",
      "1714        2019_WYOMING        WYOMING  2019     NaN            NaN   \n",
      "\n",
      "      FEDERAL_REVENUE  STATE_REVENUE  LOCAL_REVENUE  TOTAL_EXPENDITURE  \\\n",
      "0            304177.0      1659028.0       715680.0          2653798.0   \n",
      "2            297888.0      1369815.0      1590376.0          3401580.0   \n",
      "3            178571.0       958785.0       574603.0          1743022.0   \n",
      "4           2072470.0     16546514.0      7641041.0         27138832.0   \n",
      "5            163253.0      1307986.0      1713934.0          3264826.0   \n",
      "...               ...            ...            ...                ...   \n",
      "1710              NaN            NaN            NaN                NaN   \n",
      "1711              NaN            NaN            NaN                NaN   \n",
      "1712              NaN            NaN            NaN                NaN   \n",
      "1713              NaN            NaN            NaN                NaN   \n",
      "1714              NaN            NaN            NaN                NaN   \n",
      "\n",
      "      INSTRUCTION_EXPENDITURE  ...  GRADES_4_G  GRADES_8_G  GRADES_12_G  \\\n",
      "0                   1481703.0  ...     57948.0     58025.0      41167.0   \n",
      "2                   1435908.0  ...     55433.0     49081.0      37410.0   \n",
      "3                    964323.0  ...     34632.0     36011.0      27651.0   \n",
      "4                  14358922.0  ...    418418.0    363296.0     270675.0   \n",
      "5                   1642466.0  ...     50648.0     45025.0      34533.0   \n",
      "...                       ...  ...         ...         ...          ...   \n",
      "1710                      NaN  ...         NaN         NaN          NaN   \n",
      "1711                      NaN  ...         NaN         NaN          NaN   \n",
      "1712                      NaN  ...         NaN         NaN          NaN   \n",
      "1713                      NaN  ...         NaN         NaN          NaN   \n",
      "1714                      NaN  ...         NaN         NaN          NaN   \n",
      "\n",
      "      GRADES_1_8_G  GRADES_9_12_G  GRADES_ALL_G  AVG_MATH_4_SCORE  \\\n",
      "0              NaN            NaN      731634.0             208.0   \n",
      "2              NaN            NaN      673477.0             215.0   \n",
      "3              NaN            NaN      441490.0             210.0   \n",
      "4              NaN            NaN     5254844.0             208.0   \n",
      "5              NaN            NaN      612635.0             221.0   \n",
      "...            ...            ...           ...               ...   \n",
      "1710           NaN            NaN           NaN             247.0   \n",
      "1711           NaN            NaN           NaN             240.0   \n",
      "1712           NaN            NaN           NaN             231.0   \n",
      "1713           NaN            NaN           NaN             242.0   \n",
      "1714           NaN            NaN           NaN             246.0   \n",
      "\n",
      "      AVG_MATH_8_SCORE  AVG_READING_4_SCORE  AVG_READING_8_SCORE  \n",
      "0                252.0                207.0                  NaN  \n",
      "2                265.0                209.0                  NaN  \n",
      "3                256.0                211.0                  NaN  \n",
      "4                261.0                202.0                  NaN  \n",
      "5                272.0                217.0                  NaN  \n",
      "...                ...                  ...                  ...  \n",
      "1710             287.0                224.0                262.0  \n",
      "1711             286.0                220.0                266.0  \n",
      "1712             272.0                213.0                256.0  \n",
      "1713             289.0                220.0                267.0  \n",
      "1714             286.0                227.0                265.0  \n",
      "\n",
      "[602 rows x 25 columns]\n"
     ]
    }
   ],
   "source": [
    "df.isna().sum()\n",
    "df.dropna(subset=['AVG_MATH_8_SCORE'], inplace=True)\n",
    "print (df)"
   ]
  },
  {
   "cell_type": "markdown",
   "metadata": {},
   "source": [
    "<h2>Exploratory Data Analysis (EDA) </h2>"
   ]
  },
  {
   "cell_type": "markdown",
   "metadata": {},
   "source": [
    "Chosen Outcome Variable for Test: *8th grade math score and year*"
   ]
  },
  {
   "cell_type": "markdown",
   "metadata": {},
   "source": [
    "How many years of data are logged in our dataset? "
   ]
  },
  {
   "cell_type": "code",
   "execution_count": null,
   "metadata": {},
   "outputs": [],
   "source": [
    "1714"
   ]
  },
  {
   "cell_type": "markdown",
   "metadata": {},
   "source": [
    "Let's compare Michigan to Ohio. Which state has the higher average outcome score across all years?"
   ]
  },
  {
   "cell_type": "code",
   "execution_count": 27,
   "metadata": {},
   "outputs": [
    {
     "data": {
      "text/plain": [
       "<Axes: title={'center': 'Distribution of 8th Grade Math Scores'}, ylabel='Frequency'>"
      ]
     },
     "execution_count": 27,
     "metadata": {},
     "output_type": "execute_result"
    },
    {
     "data": {
      "image/png": "[encoded data removed]",
      "text/plain": [
       "<Figure size 432x288 with 1 Axes>"
      ]
     },
     "metadata": {
      "needs_background": "light"
     },
     "output_type": "display_data"
    }
   ],
   "source": [
    "df.AVG_MATH_8_SCORE.plot.hist(title=\"Distribution of 8th Grade Math Scores\", edgecolor=\"black\")"
   ]
  },
  {
   "cell_type": "code",
   "execution_count": 32,
   "metadata": {},
   "outputs": [
    {
     "data": {
      "text/plain": [
       "Text(0.5, 1.0, '8th Grade Math Score')"
      ]
     },
     "execution_count": 32,
     "metadata": {},
     "output_type": "execute_result"
    },
    {
     "data": {
      "image/png": "[encoded data removed]",
      "text/plain": [
       "<Figure size 432x288 with 1 Axes>"
      ]
     },
     "metadata": {
      "needs_background": "light"
     },
     "output_type": "display_data"
    }
   ],
   "source": [
    "df.groupby('STATE')[\"AVG_MATH_8_SCORE\"].mean().plot()\n",
    "plt.ylabel('SCORE')\n",
    "plt.title('8th Grade Math Score')"
   ]
  },
  {
   "cell_type": "code",
   "execution_count": null,
   "metadata": {},
   "outputs": [],
   "source": [
    "#unsure how to get the two states on their own. But comparing the whole graph of all 50 states, Ohio and Michigan scores could be the same"
   ]
  },
  {
   "cell_type": "markdown",
   "metadata": {},
   "source": [
    "Find the average for your outcome score across all states in 2019"
   ]
  },
  {
   "cell_type": "code",
   "execution_count": 36,
   "metadata": {},
   "outputs": [
    {
     "data": {
      "text/plain": [
       "Text(0.5, 1.0, '8th Grade Math Score Over Time')"
      ]
     },
     "execution_count": 36,
     "metadata": {},
     "output_type": "execute_result"
    },
    {
     "data": {
      "image/png": "[encoded data removed]",
      "text/plain": [
       "<Figure size 432x288 with 1 Axes>"
      ]
     },
     "metadata": {
      "needs_background": "light"
     },
     "output_type": "display_data"
    }
   ],
   "source": [
    "df.groupby('YEAR')[\"AVG_MATH_8_SCORE\"].mean().plot()\n",
    "plt.ylabel('SCORE')\n",
    "plt.title('8th Grade Math Score Over Time')"
   ]
  },
  {
   "cell_type": "markdown",
   "metadata": {},
   "source": [
    "Find the maximum outcome score for every state. \n",
    "\n",
    "Refer to the `Grouping and Aggregating` section in Tutorial 0 if you are stuck."
   ]
  },
  {
   "cell_type": "code",
   "execution_count": null,
   "metadata": {},
   "outputs": [],
   "source": []
  },
  {
   "cell_type": "markdown",
   "metadata": {},
   "source": [
    "<h2> Feature Engineering </h2>\n",
    "\n",
    "After exploring the data, you can choose to modify features that you would use to predict the performance of the students on your chosen response variable. \n",
    "\n",
    "You can also create your own features. For example, perhaps you figured that maybe a state's expenditure per student may affect their overall academic performance so you create a expenditure_per_student feature.\n",
    "\n",
    "Use this space to modify or create features."
   ]
  },
  {
   "cell_type": "code",
   "execution_count": null,
   "metadata": {},
   "outputs": [],
   "source": [
    "standardization: since population has grown over the years, this could impact the average math score since there are more people "
   ]
  },
  {
   "cell_type": "markdown",
   "metadata": {},
   "source": [
    "Feature engineering justification: **<BRIEFLY DESCRIBE WHY YOU MADE THE CHANGES THAT YOU DID\\>**"
   ]
  },
  {
   "cell_type": "markdown",
   "metadata": {},
   "source": [
    "<h2>Visualization</h2>\n",
    "\n",
    "Investigate the relationship between your chosen response variable and at least two predictors using visualizations. Write down your observations.\n",
    "\n",
    "**Visualization 1**"
   ]
  },
  {
   "cell_type": "code",
   "execution_count": null,
   "metadata": {},
   "outputs": [],
   "source": []
  },
  {
   "cell_type": "markdown",
   "metadata": {},
   "source": [
    "**<CAPTION FOR VIZ 1>**"
   ]
  },
  {
   "cell_type": "markdown",
   "metadata": {},
   "source": [
    "**Visualization 2**"
   ]
  },
  {
   "cell_type": "code",
   "execution_count": null,
   "metadata": {},
   "outputs": [],
   "source": []
  },
  {
   "cell_type": "markdown",
   "metadata": {},
   "source": [
    "**<CAPTION FOR VIZ 2>**"
   ]
  },
  {
   "cell_type": "markdown",
   "metadata": {},
   "source": [
    "<h2> Data Creation </h2>\n",
    "\n",
    "_Use this space to create train/test data_"
   ]
  },
  {
   "cell_type": "code",
   "execution_count": null,
   "metadata": {},
   "outputs": [],
   "source": [
    "from sklearn.model_selection import train_test_split"
   ]
  },
  {
   "cell_type": "code",
   "execution_count": null,
   "metadata": {},
   "outputs": [],
   "source": [
    "# X =\n",
    "# y = "
   ]
  },
  {
   "cell_type": "code",
   "execution_count": null,
   "metadata": {},
   "outputs": [],
   "source": [
    "# X_train, X_test, y_train, y_test = train_test_split(\n",
    "#      X, y, test_size=, random_state=42)"
   ]
  },
  {
   "cell_type": "markdown",
   "metadata": {},
   "source": [
    "<h2> Prediction </h2>"
   ]
  },
  {
   "cell_type": "markdown",
   "metadata": {},
   "source": [
    "ML Models [Resource](https://medium.com/@vijaya.beeravalli/comparison-of-machine-learning-classification-models-for-credit-card-default-data-c3cf805c9a5a)"
   ]
  },
  {
   "cell_type": "code",
   "execution_count": null,
   "metadata": {},
   "outputs": [],
   "source": [
    "# import your sklearn class here"
   ]
  },
  {
   "cell_type": "code",
   "execution_count": null,
   "metadata": {},
   "outputs": [],
   "source": [
    "# create your model here\n",
    "# model = "
   ]
  },
  {
   "cell_type": "code",
   "execution_count": null,
   "metadata": {},
   "outputs": [],
   "source": [
    "model.fit(X_train, y_train)"
   ]
  },
  {
   "cell_type": "code",
   "execution_count": null,
   "metadata": {},
   "outputs": [],
   "source": [
    "y_pred = model.predict(X_test)"
   ]
  },
  {
   "cell_type": "markdown",
   "metadata": {},
   "source": [
    "## Evaluation"
   ]
  },
  {
   "cell_type": "markdown",
   "metadata": {},
   "source": [
    "Choose some metrics to evaluate the performance of your model, some of them are mentioned in the tutorial."
   ]
  },
  {
   "cell_type": "code",
   "execution_count": null,
   "metadata": {},
   "outputs": [],
   "source": []
  },
  {
   "cell_type": "markdown",
   "metadata": {},
   "source": [
    "We have copied over the graphs that visualize the model's performance on the training and testing set. \n",
    "\n",
    "Change `col_name` and modify the call to `plt.ylabel()` to isolate how a single predictor affects the model."
   ]
  },
  {
   "cell_type": "code",
   "execution_count": null,
   "metadata": {},
   "outputs": [],
   "source": [
    "# col_name = 'COLUMN NAME OF ONE PREDICTOR'\n",
    "\n",
    "# f = plt.figure(figsize=(12,6))\n",
    "# plt.scatter(X_train[col_name], y_train, color = \"red\")\n",
    "# plt.scatter(X_train[col_name], model.predict(X_train), color = \"green\")\n",
    "\n",
    "# plt.legend(['True Training','Predicted Training'])\n",
    "# plt.xlabel(col_name)\n",
    "# plt.ylabel('NAME OF THE PREDICTOR')\n",
    "# plt.title(\"Model Behavior On Training Set\")"
   ]
  },
  {
   "cell_type": "code",
   "execution_count": null,
   "metadata": {},
   "outputs": [],
   "source": [
    "# col_name = 'COLUMN NAME OF ONE PREDICTOR\"\n",
    "\n",
    "# f = plt.figure(figsize=(12,6))\n",
    "# plt.scatter(X_test[col_name], y_test, color = \"blue\")\n",
    "# plt.scatter(X_test[col_name], model.predict(X_test), color = \"black\")\n",
    "\n",
    "# plt.legend(['True testing','Predicted testing'])\n",
    "# plt.xlabel(col_name)\n",
    "# plt.ylabel('NAME OF THE PREDICTOR')\n",
    "# plt.title(\"Model Behavior on Testing Set\")"
   ]
  },
  {
   "cell_type": "markdown",
   "metadata": {},
   "source": [
    "<h2> Summary </h2>"
   ]
  },
  {
   "cell_type": "markdown",
   "metadata": {},
   "source": [
    "**I was unsure how to get past the feature engineering portion of this checkpoint. However, from the previous graphs that I was able to generate showed that the average 8th grade math scores. Math scores had a median between 280-290, while also generating a graph that shoewd the trend of math scores through the years. It appeared that math scores are steadily increasing as the years went on, and this could account for the median math score to be 280-290, since population was growing and so was math scores. I was having trouble generating a graph of average math scores for Michigan and Ohio, but looking at the trend and the axis of the graph. The general area where Michigan and Ohio would be, has an average same math score as well. \n",
    "So a full analysis of this data could not be completed, there seems to be underlying possibilities and causes for this upward trend in math scores through out the years and various scores in every state.**"
   ]
  }
 ],
 "metadata": {
  "kernelspec": {
   "display_name": "Python 3 (ipykernel)",
   "language": "python",
   "name": "python3"
  },
  "language_info": {
   "codemirror_mode": {
    "name": "ipython",
    "version": 3
   },
   "file_extension": ".py",
   "mimetype": "text/x-python",
   "name": "python",
   "nbconvert_exporter": "python",
   "pygments_lexer": "ipython3",
   "version": "3.9.12"
  },
  "vscode": {
   "interpreter": {
    "hash": "6cf8df3ff69f85f626faf55c10df6fe2cb9d1236b4dc73844ee4dc01369c2c99"
   }
  }
 },
 "nbformat": 4,
 "nbformat_minor": 4
}
